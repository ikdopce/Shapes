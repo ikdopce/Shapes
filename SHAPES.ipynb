{
  "nbformat": 4,
  "nbformat_minor": 0,
  "metadata": {
    "colab": {
      "name": "SHAPES",
      "provenance": [],
      "collapsed_sections": []
    },
    "kernelspec": {
      "name": "python3",
      "display_name": "Python 3"
    },
    "language_info": {
      "name": "python"
    },
    "accelerator": "GPU"
  },
  "cells": [
    {
      "cell_type": "markdown",
      "metadata": {
        "id": "Jfk6J6rAK7X4"
      },
      "source": [
        "# Import"
      ]
    },
    {
      "cell_type": "code",
      "metadata": {
        "id": "veXhSvZ7Io9x"
      },
      "source": [
        "import pandas as pd\n",
        "import numpy as np\n",
        "import seaborn as sns\n",
        "import matplotlib.pyplot as plt\n",
        "import cv2 \n",
        "import os\n",
        "import tensorflow as tf\n",
        "\n",
        "from tensorflow.keras.models import Model\n",
        "from tensorflow.keras.applications.inception_v3 import InceptionV3\n",
        "from tensorflow.keras.applications.inception_v3 import preprocess_input\n",
        "from tensorflow.keras.preprocessing.image import ImageDataGenerator\n",
        "from tensorflow.keras.layers import Input, Conv2D, BatchNormalization, MaxPooling2D, Flatten, Dense, Dropout\n",
        "\n",
        "from tensorflow.keras.callbacks import EarlyStopping, ModelCheckpoint\n",
        "from sklearn.metrics import confusion_matrix, classification_report"
      ],
      "execution_count": 1,
      "outputs": []
    },
    {
      "cell_type": "markdown",
      "metadata": {
        "id": "gcnzOCOULDZf"
      },
      "source": [
        "# Split data into train, val, test"
      ]
    },
    {
      "cell_type": "code",
      "metadata": {
        "colab": {
          "base_uri": "https://localhost:8080/"
        },
        "id": "pssVzitYI5re",
        "outputId": "13fee258-6ce2-4573-baf2-bdc056e95363"
      },
      "source": [
        "folder = '/content/drive/MyDrive/SHAPES/shape'\n",
        "size = 75\n",
        "batch_size = 32\n",
        "\n",
        "train_data_gen = ImageDataGenerator(width_shift_range = 0.1, height_shift_range = 0.1, zoom_range=0.1, shear_range=0.1, brightness_range=[0.8,1.2], validation_split=0.15, preprocessing_function=preprocess_input)\n",
        "train_data = train_data_gen.flow_from_directory(folder, class_mode='categorical', target_size=(size,size), color_mode='rgb', batch_size=batch_size, seed=42, subset='training')\n",
        "\n",
        "val_data_gen = ImageDataGenerator(validation_split=0.15, preprocessing_function=preprocess_input)\n",
        "val_data = val_data_gen.flow_from_directory(folder, class_mode='categorical', target_size=(size,size), color_mode='rgb', batch_size=batch_size, seed=42, subset='validation')\n",
        "\n",
        "test_data_gen = ImageDataGenerator(validation_split=0.10, preprocessing_function=preprocess_input)\n",
        "test_data = test_data_gen.flow_from_directory(folder, class_mode='categorical', target_size=(size,size), color_mode='rgb', subset='validation', shuffle=False)"
      ],
      "execution_count": 2,
      "outputs": [
        {
          "output_type": "stream",
          "text": [
            "Found 255 images belonging to 1 classes.\n",
            "Found 45 images belonging to 1 classes.\n",
            "Found 30 images belonging to 1 classes.\n"
          ],
          "name": "stdout"
        }
      ]
    },
    {
      "cell_type": "markdown",
      "metadata": {
        "id": "OcahaBP8N9gP"
      },
      "source": [
        "# Test shapes"
      ]
    },
    {
      "cell_type": "code",
      "metadata": {
        "colab": {
          "base_uri": "https://localhost:8080/"
        },
        "id": "l9QGEilcN3Mk",
        "outputId": "19f1f2cd-7365-4e5f-ffc4-d6f3e914862a"
      },
      "source": [
        "shape = train_data.image_shape # Shape of train images (height,width,channels)\n",
        "print(shape)\n",
        "\n",
        "k = train_data.num_classes # Total number of labels or classes\n",
        "train_samples = train_data.samples # Total number of images in train set\n",
        "val_samples = val_data.samples # total number of images in validation set"
      ],
      "execution_count": 3,
      "outputs": [
        {
          "output_type": "stream",
          "text": [
            "(75, 75, 3)\n"
          ],
          "name": "stdout"
        }
      ]
    },
    {
      "cell_type": "markdown",
      "metadata": {
        "id": "aGAUToAOOpch"
      },
      "source": [
        "# Build the model"
      ]
    },
    {
      "cell_type": "code",
      "metadata": {
        "colab": {
          "base_uri": "https://localhost:8080/"
        },
        "id": "H6T99iczOk8j",
        "outputId": "7e9365af-7996-4698-fb24-a4983be7acfe"
      },
      "source": [
        "input = Input(shape=shape)\n",
        "\n",
        "basemodel = InceptionV3(include_top=False, weights='imagenet', input_shape=shape, pooling='avg') # Basemodel is InceptionV3 with pretrained weights trained on imagenet dataset\n",
        "basemodel.trainable = False\n",
        "\n",
        "x = basemodel(input)\n",
        "x = Dense(1024, activation='relu')(x)\n",
        "x = Dropout(0.2)(x)\n",
        "output = Dense(k, activation='softmax')(x)\n",
        "\n",
        "model = Model(input, output)"
      ],
      "execution_count": 4,
      "outputs": [
        {
          "output_type": "stream",
          "text": [
            "Downloading data from https://storage.googleapis.com/tensorflow/keras-applications/inception_v3/inception_v3_weights_tf_dim_ordering_tf_kernels_notop.h5\n",
            "87916544/87910968 [==============================] - 1s 0us/step\n"
          ],
          "name": "stdout"
        }
      ]
    },
    {
      "cell_type": "code",
      "metadata": {
        "id": "IaXYwYQ7QqZf"
      },
      "source": [
        "model.compile(optimizer='adam', loss='categorical_crossentropy', metrics=['accuracy'])"
      ],
      "execution_count": 5,
      "outputs": []
    },
    {
      "cell_type": "markdown",
      "metadata": {
        "id": "R1ydnAJoR-fs"
      },
      "source": [
        "# Callbacks"
      ]
    },
    {
      "cell_type": "code",
      "metadata": {
        "id": "CW_-XV6QRLvF"
      },
      "source": [
        "stop = EarlyStopping(monitor='val_loss', patience=4, mode='min', restore_best_weights=True)\n",
        "checkpoint = ModelCheckpoint(filepath='{val_loss:.4f}-weights-{epoch:02d}.hdf5', monitor='val_loss', mode='min', save_best_only=True)"
      ],
      "execution_count": 6,
      "outputs": []
    },
    {
      "cell_type": "markdown",
      "metadata": {
        "id": "sIup_SBFT5bU"
      },
      "source": [
        "# Summary"
      ]
    },
    {
      "cell_type": "code",
      "metadata": {
        "colab": {
          "base_uri": "https://localhost:8080/"
        },
        "id": "I86hwmeiR7rE",
        "outputId": "ec133f39-6ccf-4511-b933-68d35326f361"
      },
      "source": [
        "model.summary()"
      ],
      "execution_count": 7,
      "outputs": [
        {
          "output_type": "stream",
          "text": [
            "Model: \"model\"\n",
            "_________________________________________________________________\n",
            "Layer (type)                 Output Shape              Param #   \n",
            "=================================================================\n",
            "input_1 (InputLayer)         [(None, 75, 75, 3)]       0         \n",
            "_________________________________________________________________\n",
            "inception_v3 (Functional)    (None, 2048)              21802784  \n",
            "_________________________________________________________________\n",
            "dense (Dense)                (None, 1024)              2098176   \n",
            "_________________________________________________________________\n",
            "dropout (Dropout)            (None, 1024)              0         \n",
            "_________________________________________________________________\n",
            "dense_1 (Dense)              (None, 1)                 1025      \n",
            "=================================================================\n",
            "Total params: 23,901,985\n",
            "Trainable params: 2,099,201\n",
            "Non-trainable params: 21,802,784\n",
            "_________________________________________________________________\n"
          ],
          "name": "stdout"
        }
      ]
    },
    {
      "cell_type": "markdown",
      "metadata": {
        "id": "jIHHlridUUCE"
      },
      "source": [
        "# Train model"
      ]
    },
    {
      "cell_type": "code",
      "metadata": {
        "colab": {
          "base_uri": "https://localhost:8080/"
        },
        "id": "0IyZIk8uUMaj",
        "outputId": "52ac58ca-5c77-4e2c-ebdd-17c03301bbbe"
      },
      "source": [
        "res = model.fit(train_data, validation_data=val_data, \n",
        "                steps_per_epoch=train_samples/batch_size, \n",
        "                validation_steps=val_samples/batch_size,\n",
        "                epochs=50, callbacks=[stop, checkpoint])"
      ],
      "execution_count": 8,
      "outputs": [
        {
          "output_type": "stream",
          "text": [
            "Epoch 1/50\n",
            "7/7 [==============================] - 153s 15s/step - loss: 0.0000e+00 - accuracy: 1.0000 - val_loss: 0.0000e+00 - val_accuracy: 1.0000\n",
            "Epoch 2/50\n",
            "7/7 [==============================] - 1s 164ms/step - loss: 0.0000e+00 - accuracy: 1.0000 - val_loss: 0.0000e+00 - val_accuracy: 1.0000\n",
            "Epoch 3/50\n",
            "7/7 [==============================] - 1s 162ms/step - loss: 0.0000e+00 - accuracy: 1.0000 - val_loss: 0.0000e+00 - val_accuracy: 1.0000\n",
            "Epoch 4/50\n",
            "7/7 [==============================] - 1s 161ms/step - loss: 0.0000e+00 - accuracy: 1.0000 - val_loss: 0.0000e+00 - val_accuracy: 1.0000\n",
            "Epoch 5/50\n",
            "7/7 [==============================] - 1s 167ms/step - loss: 0.0000e+00 - accuracy: 1.0000 - val_loss: 0.0000e+00 - val_accuracy: 1.0000\n"
          ],
          "name": "stdout"
        }
      ]
    },
    {
      "cell_type": "markdown",
      "metadata": {
        "id": "oxUcYvtCVklx"
      },
      "source": [
        "# Check model"
      ]
    },
    {
      "cell_type": "code",
      "metadata": {
        "colab": {
          "base_uri": "https://localhost:8080/"
        },
        "id": "8QmAVjSXVpGP",
        "outputId": "722d3633-8c45-4f79-8fbe-05907d7309e8"
      },
      "source": [
        "model.evaluate(val_data)"
      ],
      "execution_count": 9,
      "outputs": [
        {
          "output_type": "stream",
          "text": [
            "2/2 [==============================] - 0s 37ms/step - loss: 0.0000e+00 - accuracy: 1.0000\n"
          ],
          "name": "stdout"
        },
        {
          "output_type": "execute_result",
          "data": {
            "text/plain": [
              "[0.0, 1.0]"
            ]
          },
          "metadata": {
            "tags": []
          },
          "execution_count": 9
        }
      ]
    },
    {
      "cell_type": "markdown",
      "metadata": {
        "id": "7owCvBmqV1Ho"
      },
      "source": [
        "# Plot history"
      ]
    },
    {
      "cell_type": "code",
      "metadata": {
        "colab": {
          "base_uri": "https://localhost:8080/",
          "height": 513
        },
        "id": "d68KOhIRV0pd",
        "outputId": "a7e8c8cf-5d16-4875-e35a-17f0bbf33ba3"
      },
      "source": [
        "plt.plot(res.history['loss'], label='loss')\n",
        "plt.plot(res.history['val_loss'], label='val_loss')\n",
        "plt.legend()\n",
        "plt.show()\n",
        "plt.plot(res.history['accuracy'], label='accuracy')\n",
        "plt.plot(res.history['val_accuracy'], label='val_accuracy')\n",
        "plt.legend()\n",
        "plt.show()"
      ],
      "execution_count": 10,
      "outputs": [
        {
          "output_type": "display_data",
          "data": {
            "image/png": "[encoded data removed]",
            "text/plain": [
              "<Figure size 432x288 with 1 Axes>"
            ]
          },
          "metadata": {
            "tags": [],
            "needs_background": "light"
          }
        },
        {
          "output_type": "display_data",
          "data": {
            "image/png": "[encoded data removed]",
            "text/plain": [
              "<Figure size 432x288 with 1 Axes>"
            ]
          },
          "metadata": {
            "tags": [],
            "needs_background": "light"
          }
        }
      ]
    },
    {
      "cell_type": "markdown",
      "metadata": {
        "id": "RYlryaKgWEtb"
      },
      "source": [
        "# Prediction"
      ]
    },
    {
      "cell_type": "code",
      "metadata": {
        "id": "samWhx0zZe36"
      },
      "source": [
        "pred = model.predict(test_data).argmax(axis=1)"
      ],
      "execution_count": 15,
      "outputs": []
    },
    {
      "cell_type": "markdown",
      "metadata": {
        "id": "ZBlMxlIjY-lu"
      },
      "source": [
        "# Visualization"
      ]
    },
    {
      "cell_type": "code",
      "metadata": {
        "colab": {
          "base_uri": "https://localhost:8080/",
          "height": 1000
        },
        "id": "qKmpekuGY-Gb",
        "outputId": "22a5976a-0e49-4dbc-d22c-9db9ff432c4e"
      },
      "source": [
        "labels = list(train_data.class_indices.keys())\n",
        "rand = np.random.randint(low=0, high=test_data.samples, size=5)\n",
        "\n",
        "for n in rand:\n",
        "  true_index = test_data.classes[n]\n",
        "  predicted_index = pred[n]\n",
        "  img = cv2.imread(test_data.filepaths[n])\n",
        "  img = cv2.cvtColor(img, cv2.COLOR_BGR2RGB)\n",
        "  plt.imshow(img)\n",
        "  plt.title('True label={}  Predicted label={}'.format(labels[true_index], labels[predicted_index]))\n",
        "  plt.show()"
      ],
      "execution_count": 16,
      "outputs": [
        {
          "output_type": "display_data",
          "data": {
            "image/png": "[encoded data removed]",
            "text/plain": [
              "<Figure size 432x288 with 1 Axes>"
            ]
          },
          "metadata": {
            "tags": [],
            "needs_background": "light"
          }
        },
        {
          "output_type": "display_data",
          "data": {
            "image/png": "[encoded data removed]",
            "text/plain": [
              "<Figure size 432x288 with 1 Axes>"
            ]
          },
          "metadata": {
            "tags": [],
            "needs_background": "light"
          }
        },
        {
          "output_type": "display_data",
          "data": {
            "image/png": "[encoded data removed]",
            "text/plain": [
              "<Figure size 432x288 with 1 Axes>"
            ]
          },
          "metadata": {
            "tags": [],
            "needs_background": "light"
          }
        },
        {
          "output_type": "display_data",
          "data": {
            "image/png": "[encoded data removed]",
            "text/plain": [
              "<Figure size 432x288 with 1 Axes>"
            ]
          },
          "metadata": {
            "tags": [],
            "needs_background": "light"
          }
        },
        {
          "output_type": "display_data",
          "data": {
            "image/png": "[encoded data removed]",
            "text/plain": [
              "<Figure size 432x288 with 1 Axes>"
            ]
          },
          "metadata": {
            "tags": [],
            "needs_background": "light"
          }
        }
      ]
    },
    {
      "cell_type": "code",
      "metadata": {
        "id": "NaXQoLUZZx-3"
      },
      "source": [
        ""
      ],
      "execution_count": null,
      "outputs": []
    }
  ]
}